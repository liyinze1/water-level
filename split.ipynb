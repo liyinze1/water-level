{
 "cells": [
  {
   "cell_type": "code",
   "execution_count": 9,
   "id": "73c3564f",
   "metadata": {},
   "outputs": [],
   "source": [
    "import os\n",
    "from ultralytics.data.converter import convert_segment_masks_to_yolo_seg"
   ]
  },
  {
   "cell_type": "code",
   "execution_count": 10,
   "id": "04851ecd",
   "metadata": {},
   "outputs": [],
   "source": [
    "def get_files(directory):\n",
    "    files = []\n",
    "    for file in os.listdir(directory):\n",
    "        file_path = os.path.join(directory, file)\n",
    "        if os.path.isdir(file_path):\n",
    "            files += get_files(file_path)\n",
    "        elif file.endswith('.jpg') or file.endswith('.png'):\n",
    "            files.append(file_path)\n",
    "    return files\n"
   ]
  },
  {
   "cell_type": "code",
   "execution_count": 11,
   "id": "886519e6",
   "metadata": {},
   "outputs": [],
   "source": [
    "all_files = get_files('water_v2')"
   ]
  },
  {
   "cell_type": "code",
   "execution_count": 12,
   "id": "2e26f4cf",
   "metadata": {},
   "outputs": [
    {
     "name": "stdout",
     "output_type": "stream",
     "text": [
      "Data files: 4413\n",
      "Annotations files: 2403\n"
     ]
    }
   ],
   "source": [
    "data = []\n",
    "annotations = []\n",
    "\n",
    "for file in all_files:\n",
    "    if 'Annotations' in file:\n",
    "        annotations.append(file)\n",
    "    else:\n",
    "        data.append(file)\n",
    "        \n",
    "print(f\"Data files: {len(data)}\")\n",
    "print(f\"Annotations files: {len(annotations)}\") "
   ]
  }
 ],
 "metadata": {
  "kernelspec": {
   "display_name": "base",
   "language": "python",
   "name": "python3"
  },
  "language_info": {
   "codemirror_mode": {
    "name": "ipython",
    "version": 3
   },
   "file_extension": ".py",
   "mimetype": "text/x-python",
   "name": "python",
   "nbconvert_exporter": "python",
   "pygments_lexer": "ipython3",
   "version": "3.12.2"
  }
 },
 "nbformat": 4,
 "nbformat_minor": 5
}
