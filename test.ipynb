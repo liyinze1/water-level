{
 "cells": [
  {
   "cell_type": "code",
   "execution_count": 2,
   "id": "d57603d0",
   "metadata": {},
   "outputs": [
    {
     "name": "stdout",
     "output_type": "stream",
     "text": [
      "906\n"
     ]
    }
   ],
   "source": [
    "import os\n",
    "\n",
    "count = 0\n",
    "\n",
    "f = open('data.txt', 'r')\n",
    "files = f.readlines()\n",
    "f.close()\n",
    "\n",
    "for file in files:\n",
    "    if 'ADE20K' not in file and 'lab' not in file: # and 'water_v2' in file:\n",
    "        count += 1\n",
    "        \n",
    "print(count)"
   ]
  }
 ],
 "metadata": {
  "kernelspec": {
   "display_name": "base",
   "language": "python",
   "name": "python3"
  },
  "language_info": {
   "codemirror_mode": {
    "name": "ipython",
    "version": 3
   },
   "file_extension": ".py",
   "mimetype": "text/x-python",
   "name": "python",
   "nbconvert_exporter": "python",
   "pygments_lexer": "ipython3",
   "version": "3.12.2"
  }
 },
 "nbformat": 4,
 "nbformat_minor": 5
}
